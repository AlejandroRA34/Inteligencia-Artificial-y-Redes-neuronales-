{
  "cells": [
    {
      "cell_type": "markdown",
      "metadata": {
        "id": "view-in-github",
        "colab_type": "text"
      },
      "source": [
        "<a href=\"https://colab.research.google.com/github/AlejandroRA34/Inteligencia-Artificial-y-Redes-neuronales-/blob/main/Te_damos_la_bienvenida_a_Colaboratory.ipynb\" target=\"_parent\"><img src=\"https://colab.research.google.com/assets/colab-badge.svg\" alt=\"Open In Colab\"/></a>"
      ]
    },
    {
      "cell_type": "markdown",
      "source": [
        "Ejercicios basicos en Python\n"
      ],
      "metadata": {
        "id": "DsZourf9XrJP"
      }
    },
    {
      "cell_type": "markdown",
      "source": [
        "Sebastian Alejandro Rangel Ibarra 1868956 Hora: V4 - V6\n",
        "\n",
        "Programa #1\n",
        "\n",
        "Escribe un programa que le pida al usuario por su nombre y que lo salude con su nombre, excepto si se llama “Ana”, “Juan”, y “Pedro”."
      ],
      "metadata": {
        "id": "JS6lF392g3jC"
      }
    },
    {
      "cell_type": "code",
      "source": [
        "nombre=str(input(\"¿Cual es su nombre?: \"))\n",
        "if nombre!=\"Ana\" and nombre!=\"Juan\" and nombre!=\"Pedro\":\n",
        "  print(\"Hola\",nombre)"
      ],
      "metadata": {
        "colab": {
          "base_uri": "https://localhost:8080/"
        },
        "id": "X99YI6NThFCC",
        "outputId": "2188323a-4f11-45ec-9517-bdde5a93fe48"
      },
      "execution_count": null,
      "outputs": [
        {
          "output_type": "stream",
          "name": "stdout",
          "text": [
            "¿Cual es su nombre?: Sebastian \n",
            "Hola Sebastian \n"
          ]
        }
      ]
    },
    {
      "cell_type": "markdown",
      "source": [
        "Programa #2\n",
        "\n",
        "Escribe una funcion que regrese el ultimo elemento de una lista y que revierta el orden de la lista e imprima la lista revertida.\n",
        "\n",
        "\n"
      ],
      "metadata": {
        "id": "14F_k__OiEFA"
      }
    },
    {
      "cell_type": "code",
      "source": [
        "lista=[80,24,66,96,34,1]\n",
        "print(\"El último numero es: \",lista[-1])\n",
        "print(\"Lista original: \")\n",
        "print(lista)\n",
        "print(\"Lista revertida: \")\n",
        "contador = len(lista) - 1\n",
        "nuevaLista = []\n",
        "while (contador >= 0):\n",
        "  nuevaLista.append(lista[contador])\n",
        "  contador = contador - 1\n",
        "print(nuevaLista)"
      ],
      "metadata": {
        "colab": {
          "base_uri": "https://localhost:8080/"
        },
        "id": "ZZrA8T8iimkT",
        "outputId": "92d53386-5dc3-4184-eb18-d11e570d945f"
      },
      "execution_count": null,
      "outputs": [
        {
          "output_type": "stream",
          "name": "stdout",
          "text": [
            "El último numero es:  1\n",
            "Lista original: \n",
            "[80, 24, 66, 96, 34, 1]\n",
            "Lista revertida: \n",
            "[1, 34, 96, 66, 24, 80]\n"
          ]
        }
      ]
    },
    {
      "cell_type": "markdown",
      "source": [
        "Programa #3 \n",
        "\n",
        "Escribe una función que toma una lista de strings y los imprima línea por línea en un marco rectangular."
      ],
      "metadata": {
        "id": "VnooiGkFlDte"
      }
    },
    {
      "cell_type": "code",
      "source": [
        "lista=[\"Hola\",\"a\",\"todos\",\"esto\",\"es\",\"un\",\"marco\"]\n",
        "print(\"**********\\n* \",lista[0],\" * \\n* \",lista[1],\"    *\\n* \",lista[2],\"*\\n* \",lista[3],\" *\\n* \",lista[4], \"   *\\n* \",lista[5],\"   *\\n* \",lista[6],\"*\\n**********\"   )"
      ],
      "metadata": {
        "colab": {
          "base_uri": "https://localhost:8080/"
        },
        "id": "q6MRBdIUlQEv",
        "outputId": "dbcb24a3-e5fa-44c8-9f07-098bff5d3097"
      },
      "execution_count": null,
      "outputs": [
        {
          "output_type": "stream",
          "name": "stdout",
          "text": [
            "**********\n",
            "*  Hola  * \n",
            "*  a     *\n",
            "*  todos *\n",
            "*  esto  *\n",
            "*  es    *\n",
            "*  un    *\n",
            "*  marco *\n",
            "**********\n"
          ]
        }
      ]
    }
  ],
  "metadata": {
    "colab": {
      "collapsed_sections": [],
      "name": "Te damos la bienvenida a Colaboratory",
      "toc_visible": true,
      "provenance": [],
      "include_colab_link": true
    },
    "kernelspec": {
      "display_name": "Python 3",
      "name": "python3"
    }
  },
  "nbformat": 4,
  "nbformat_minor": 0
}